{
  "nbformat": 4,
  "nbformat_minor": 0,
  "metadata": {
    "colab": {
      "name": "buildandchangecnnwithministdataset",
      "provenance": []
    },
    "kernelspec": {
      "name": "python3",
      "display_name": "Python 3"
    },
    "language_info": {
      "name": "python"
    },
    "accelerator": "GPU"
  },
  "cells": [
    {
      "cell_type": "code",
      "metadata": {
        "id": "Q_SjiUQ9o-PJ"
      },
      "source": [
        "from keras.datasets import mnist\n",
        "import matplotlib \n",
        "import matplotlib.pyplot as plt\n",
        "import random\n",
        "import keras\n",
        "import tensorflow as tf\n",
        "from keras.layers import Conv2D, MaxPooling2D\n",
        "from keras.layers import Dense, Dropout, Flatten\n",
        "from keras.models import Sequential,Input,Model\n",
        "from sklearn.model_selection import train_test_split\n",
        "from keras.utils import to_categorical\n"
      ],
      "execution_count": null,
      "outputs": []
    },
    {
      "cell_type": "code",
      "metadata": {
        "id": "CO0Xcnr6pLtT"
      },
      "source": [
        "# def show_image(data, lables, number_of_images):\n",
        "#     #figure, axes = plt.subplots(nrows=2, ncols=2)\n",
        "#     for i in range(number_of_images):\n",
        "#         #plt.subplot(330 + 1 + i)\n",
        "#         plt.subplot(2,number_of_images,i+1)\n",
        "#         plt.imshow(data[i], cmap=plt.get_cmap('gray'))\n",
        "#     plt.show()\n",
        "#     #figure.tight_layout()\n",
        "#     for i in range(number_of_images):\n",
        "#         print(lables[i],\" \")\n",
        "def show_image(data, labels, number_of_images):\n",
        "    for i in range(number_of_images):\n",
        "        plt.subplot(330 + 1 + i)\n",
        "        plt.imshow(data[i], cmap=plt.get_cmap('gray'))\n",
        "    plt.show()\n",
        "    for i in range(number_of_images):\n",
        "        print(labels[i])"
      ],
      "execution_count": null,
      "outputs": []
    },
    {
      "cell_type": "code",
      "metadata": {
        "id": "Kdkq7XNtsv85"
      },
      "source": [
        "def getData():\n",
        "    (x_train, y_train), (x_test, y_test) = mnist.load_data()\n",
        "    print('X_train: ' + str(x_train.shape))\n",
        "    print('Y_train: ' + str(y_train.shape))\n",
        "    print('X_test:  ' + str(x_test.shape))\n",
        "    print('Y_test:  ' + str(y_test.shape))\n",
        "    print(\"-----------------------------------------------\")\n",
        "    show_image(x_train, y_train, 6)\n",
        "    return x_train, y_train, x_test, y_test"
      ],
      "execution_count": null,
      "outputs": []
    },
    {
      "cell_type": "code",
      "metadata": {
        "id": "h9hMLXmyP58d"
      },
      "source": [
        "def shuffle(data, labels):\n",
        "    index = list(range(1, len(data)))\n",
        "    random.shuffle(index)\n",
        "    for i in range(len(index)):\n",
        "        data[i], labels[i] = data[index[i]], labels[index[i]]\n",
        "    return data, labels"
      ],
      "execution_count": null,
      "outputs": []
    },
    {
      "cell_type": "code",
      "metadata": {
        "id": "wFkKeX-DtNu1",
        "colab": {
          "base_uri": "https://localhost:8080/",
          "height": 427
        },
        "outputId": "c1636980-df5d-480e-c0eb-e70a963993f5"
      },
      "source": [
        "x_train, y_train, x_test, y_test = getData()\n"
      ],
      "execution_count": null,
      "outputs": [
        {
          "output_type": "stream",
          "text": [
            "Downloading data from https://storage.googleapis.com/tensorflow/tf-keras-datasets/mnist.npz\n",
            "11493376/11490434 [==============================] - 0s 0us/step\n",
            "X_train: (60000, 28, 28)\n",
            "Y_train: (60000,)\n",
            "X_test:  (10000, 28, 28)\n",
            "Y_test:  (10000,)\n",
            "-----------------------------------------------\n"
          ],
          "name": "stdout"
        },
        {
          "output_type": "display_data",
          "data": {
            "image/png": "[encoded data removed]",
            "text/plain": [
              "<Figure size 432x288 with 6 Axes>"
            ]
          },
          "metadata": {
            "tags": [],
            "needs_background": "light"
          }
        },
        {
          "output_type": "stream",
          "text": [
            "5\n",
            "0\n",
            "4\n",
            "1\n",
            "9\n",
            "2\n"
          ],
          "name": "stdout"
        }
      ]
    },
    {
      "cell_type": "markdown",
      "metadata": {
        "id": "dy2SkBADa6-y"
      },
      "source": [
        "# 0-\tInclude shuffling in your data (this is usually by setting a parameter to true)"
      ]
    },
    {
      "cell_type": "code",
      "metadata": {
        "id": "xIN4pncPQfsS"
      },
      "source": [
        "# x_train, y_train = shuffle(x_train,y_train)\n",
        "# show_image(x_train, y_train, 6)"
      ],
      "execution_count": null,
      "outputs": []
    },
    {
      "cell_type": "code",
      "metadata": {
        "id": "MuwAVbbnR2En"
      },
      "source": [
        "# x_test, y_test = shuffle(x_train,y_train)\n",
        "# show_image(x_test, y_test, 6)"
      ],
      "execution_count": null,
      "outputs": []
    },
    {
      "cell_type": "code",
      "metadata": {
        "id": "szH8UFULw7OJ"
      },
      "source": [
        "x_train = x_train.reshape(-1, 28,28, 1)\n",
        "x_test = x_test.reshape(-1, 28,28, 1)\n",
        "y_train_one_hot = to_categorical(y_train)\n",
        "y_test_one_hot = to_categorical(y_test)\n",
        "x_train,x_valid,y_train,y_valid = train_test_split(x_train, y_train_one_hot, test_size=0.2, random_state=13)"
      ],
      "execution_count": null,
      "outputs": []
    },
    {
      "cell_type": "code",
      "metadata": {
        "id": "mumwq4bBayb8"
      },
      "source": [
        "first_model = Sequential()\n",
        "first_model.add(Conv2D(32, kernel_size=(2, 2), activation='relu', input_shape=(28, 28, 1), padding='same'))\n",
        "first_model.add(MaxPooling2D((2, 2), padding='same'))\n",
        "first_model.add(Conv2D(64, (2, 2), activation='relu', padding='same'))\n",
        "first_model.add(MaxPooling2D((2, 2), padding='same'))\n",
        "first_model.add(Conv2D(128, (2, 2), activation='relu', padding='same'))\n",
        "first_model.add(MaxPooling2D((2, 2), padding='same'))\n",
        "first_model.add(Dropout(0.6))\n",
        "first_model.add(Flatten())\n",
        "first_model.add(Dense(128, activation='relu'))\n",
        "first_model.add(Dense(10, activation='softmax'))\n"
      ],
      "execution_count": null,
      "outputs": []
    },
    {
      "cell_type": "code",
      "metadata": {
        "colab": {
          "base_uri": "https://localhost:8080/"
        },
        "id": "Rvba-fN-oRfH",
        "outputId": "3e2777f4-c57d-43da-a3ea-1b2b36efc9ae"
      },
      "source": [
        "batch_size = 250\n",
        "epochs = 30\n",
        "num_classes = 10\n",
        "first_model.compile(loss=keras.losses.binary_crossentropy,\n",
        "                    optimizer=tf.keras.optimizers.Adam(),\n",
        "                    metrics=['accuracy'])\n",
        "first_model.summary()\n",
        "\n"
      ],
      "execution_count": null,
      "outputs": [
        {
          "output_type": "stream",
          "text": [
            "Model: \"sequential\"\n",
            "_________________________________________________________________\n",
            "Layer (type)                 Output Shape              Param #   \n",
            "=================================================================\n",
            "conv2d (Conv2D)              (None, 28, 28, 32)        160       \n",
            "_________________________________________________________________\n",
            "max_pooling2d (MaxPooling2D) (None, 14, 14, 32)        0         \n",
            "_________________________________________________________________\n",
            "conv2d_1 (Conv2D)            (None, 14, 14, 64)        8256      \n",
            "_________________________________________________________________\n",
            "max_pooling2d_1 (MaxPooling2 (None, 7, 7, 64)          0         \n",
            "_________________________________________________________________\n",
            "conv2d_2 (Conv2D)            (None, 7, 7, 128)         32896     \n",
            "_________________________________________________________________\n",
            "max_pooling2d_2 (MaxPooling2 (None, 4, 4, 128)         0         \n",
            "_________________________________________________________________\n",
            "dropout (Dropout)            (None, 4, 4, 128)         0         \n",
            "_________________________________________________________________\n",
            "flatten (Flatten)            (None, 2048)              0         \n",
            "_________________________________________________________________\n",
            "dense (Dense)                (None, 128)               262272    \n",
            "_________________________________________________________________\n",
            "dense_1 (Dense)              (None, 10)                1290      \n",
            "=================================================================\n",
            "Total params: 304,874\n",
            "Trainable params: 304,874\n",
            "Non-trainable params: 0\n",
            "_________________________________________________________________\n"
          ],
          "name": "stdout"
        }
      ]
    },
    {
      "cell_type": "code",
      "metadata": {
        "colab": {
          "base_uri": "https://localhost:8080/"
        },
        "id": "2pkoS-xdsyuA",
        "outputId": "801ec076-7189-49ae-864d-ed5480041492"
      },
      "source": [
        "first_model_train = first_model.fit(x_train, y_train, batch_size=batch_size, epochs=epochs, verbose=1,\n",
        "                                    validation_data=(x_valid, y_valid))\n"
      ],
      "execution_count": null,
      "outputs": [
        {
          "output_type": "stream",
          "text": [
            "Epoch 1/30\n",
            "192/192 [==============================] - 34s 10ms/step - loss: 0.7587 - accuracy: 0.5147 - val_loss: 0.0318 - val_accuracy: 0.9586\n",
            "Epoch 2/30\n",
            "192/192 [==============================] - 2s 8ms/step - loss: 0.0494 - accuracy: 0.9319 - val_loss: 0.0199 - val_accuracy: 0.9737\n",
            "Epoch 3/30\n",
            "192/192 [==============================] - 2s 8ms/step - loss: 0.0319 - accuracy: 0.9549 - val_loss: 0.0140 - val_accuracy: 0.9808\n",
            "Epoch 4/30\n",
            "192/192 [==============================] - 2s 8ms/step - loss: 0.0248 - accuracy: 0.9649 - val_loss: 0.0119 - val_accuracy: 0.9836\n",
            "Epoch 5/30\n",
            "192/192 [==============================] - 2s 8ms/step - loss: 0.0198 - accuracy: 0.9728 - val_loss: 0.0102 - val_accuracy: 0.9852\n",
            "Epoch 6/30\n",
            "192/192 [==============================] - 2s 8ms/step - loss: 0.0173 - accuracy: 0.9764 - val_loss: 0.0097 - val_accuracy: 0.9859\n",
            "Epoch 7/30\n",
            "192/192 [==============================] - 2s 8ms/step - loss: 0.0155 - accuracy: 0.9773 - val_loss: 0.0092 - val_accuracy: 0.9871\n",
            "Epoch 8/30\n",
            "192/192 [==============================] - 2s 8ms/step - loss: 0.0139 - accuracy: 0.9801 - val_loss: 0.0089 - val_accuracy: 0.9861\n",
            "Epoch 9/30\n",
            "192/192 [==============================] - 2s 8ms/step - loss: 0.0135 - accuracy: 0.9807 - val_loss: 0.0084 - val_accuracy: 0.9867\n",
            "Epoch 10/30\n",
            "192/192 [==============================] - 2s 8ms/step - loss: 0.0115 - accuracy: 0.9843 - val_loss: 0.0077 - val_accuracy: 0.9884\n",
            "Epoch 11/30\n",
            "192/192 [==============================] - 2s 8ms/step - loss: 0.0110 - accuracy: 0.9841 - val_loss: 0.0075 - val_accuracy: 0.9898\n",
            "Epoch 12/30\n",
            "192/192 [==============================] - 2s 8ms/step - loss: 0.0108 - accuracy: 0.9847 - val_loss: 0.0073 - val_accuracy: 0.9889\n",
            "Epoch 13/30\n",
            "192/192 [==============================] - 2s 8ms/step - loss: 0.0096 - accuracy: 0.9866 - val_loss: 0.0070 - val_accuracy: 0.9898\n",
            "Epoch 14/30\n",
            "192/192 [==============================] - 2s 8ms/step - loss: 0.0096 - accuracy: 0.9871 - val_loss: 0.0070 - val_accuracy: 0.9886\n",
            "Epoch 15/30\n",
            "192/192 [==============================] - 2s 8ms/step - loss: 0.0090 - accuracy: 0.9872 - val_loss: 0.0062 - val_accuracy: 0.9904\n",
            "Epoch 16/30\n",
            "192/192 [==============================] - 2s 8ms/step - loss: 0.0086 - accuracy: 0.9865 - val_loss: 0.0064 - val_accuracy: 0.9894\n",
            "Epoch 17/30\n",
            "192/192 [==============================] - 2s 8ms/step - loss: 0.0080 - accuracy: 0.9878 - val_loss: 0.0071 - val_accuracy: 0.9898\n",
            "Epoch 18/30\n",
            "192/192 [==============================] - 2s 8ms/step - loss: 0.0078 - accuracy: 0.9883 - val_loss: 0.0070 - val_accuracy: 0.9899\n",
            "Epoch 19/30\n",
            "192/192 [==============================] - 2s 8ms/step - loss: 0.0079 - accuracy: 0.9882 - val_loss: 0.0070 - val_accuracy: 0.9895\n",
            "Epoch 20/30\n",
            "192/192 [==============================] - 2s 8ms/step - loss: 0.0072 - accuracy: 0.9895 - val_loss: 0.0067 - val_accuracy: 0.9903\n",
            "Epoch 21/30\n",
            "192/192 [==============================] - 2s 8ms/step - loss: 0.0067 - accuracy: 0.9901 - val_loss: 0.0068 - val_accuracy: 0.9898\n",
            "Epoch 22/30\n",
            "192/192 [==============================] - 2s 8ms/step - loss: 0.0069 - accuracy: 0.9902 - val_loss: 0.0076 - val_accuracy: 0.9885\n",
            "Epoch 23/30\n",
            "192/192 [==============================] - 2s 8ms/step - loss: 0.0074 - accuracy: 0.9888 - val_loss: 0.0070 - val_accuracy: 0.9899\n",
            "Epoch 24/30\n",
            "192/192 [==============================] - 2s 8ms/step - loss: 0.0065 - accuracy: 0.9902 - val_loss: 0.0067 - val_accuracy: 0.9896\n",
            "Epoch 25/30\n",
            "192/192 [==============================] - 2s 8ms/step - loss: 0.0061 - accuracy: 0.9903 - val_loss: 0.0063 - val_accuracy: 0.9904\n",
            "Epoch 26/30\n",
            "192/192 [==============================] - 2s 8ms/step - loss: 0.0063 - accuracy: 0.9905 - val_loss: 0.0074 - val_accuracy: 0.9895\n",
            "Epoch 27/30\n",
            "192/192 [==============================] - 2s 8ms/step - loss: 0.0056 - accuracy: 0.9913 - val_loss: 0.0072 - val_accuracy: 0.9900\n",
            "Epoch 28/30\n",
            "192/192 [==============================] - 2s 8ms/step - loss: 0.0059 - accuracy: 0.9916 - val_loss: 0.0067 - val_accuracy: 0.9897\n",
            "Epoch 29/30\n",
            "192/192 [==============================] - 2s 8ms/step - loss: 0.0054 - accuracy: 0.9919 - val_loss: 0.0063 - val_accuracy: 0.9915\n",
            "Epoch 30/30\n",
            "192/192 [==============================] - 2s 8ms/step - loss: 0.0054 - accuracy: 0.9922 - val_loss: 0.0066 - val_accuracy: 0.9899\n"
          ],
          "name": "stdout"
        }
      ]
    },
    {
      "cell_type": "code",
      "metadata": {
        "id": "LDT107dMBS7O",
        "colab": {
          "base_uri": "https://localhost:8080/"
        },
        "outputId": "aeea401f-b1d0-48e5-e3e0-6a3e6e521b0d"
      },
      "source": [
        "first_model.evaluate(x_test, y_test_one_hot,batch_size=200, verbose=1)"
      ],
      "execution_count": null,
      "outputs": [
        {
          "output_type": "stream",
          "text": [
            "50/50 [==============================] - 0s 5ms/step - loss: 0.0061 - accuracy: 0.9897\n"
          ],
          "name": "stdout"
        },
        {
          "output_type": "execute_result",
          "data": {
            "text/plain": [
              "[0.0061249700374901295, 0.9897000193595886]"
            ]
          },
          "metadata": {
            "tags": []
          },
          "execution_count": 16
        }
      ]
    }
  ]
}